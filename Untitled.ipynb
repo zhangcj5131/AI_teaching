{
 "cells": [
  {
   "cell_type": "code",
   "execution_count": 1,
   "metadata": {},
   "outputs": [],
   "source": [
    "import numpy as np"
   ]
  },
  {
   "cell_type": "code",
   "execution_count": 3,
   "metadata": {},
   "outputs": [
    {
     "data": {
      "text/plain": [
       "array([[1., 1., 1.],\n",
       "       [1., 1., 1.]])"
      ]
     },
     "execution_count": 3,
     "metadata": {},
     "output_type": "execute_result"
    }
   ],
   "source": [
    "ones = np.ones((2,3))\n",
    "ones"
   ]
  },
  {
   "cell_type": "code",
   "execution_count": 4,
   "metadata": {},
   "outputs": [
    {
     "data": {
      "text/plain": [
       "array([[0., 0., 0.],\n",
       "       [0., 0., 0.]])"
      ]
     },
     "execution_count": 4,
     "metadata": {},
     "output_type": "execute_result"
    }
   ],
   "source": [
    "np.zeros_like(ones)"
   ]
  },
  {
   "cell_type": "code",
   "execution_count": 6,
   "metadata": {},
   "outputs": [
    {
     "data": {
      "text/plain": [
       "array([  0.        ,  11.11111111,  22.22222222,  33.33333333,\n",
       "        44.44444444,  55.55555556,  66.66666667,  77.77777778,\n",
       "        88.88888889, 100.        ])"
      ]
     },
     "execution_count": 6,
     "metadata": {},
     "output_type": "execute_result"
    }
   ],
   "source": [
    "np.linspace(0,100,10)"
   ]
  },
  {
   "cell_type": "code",
   "execution_count": 7,
   "metadata": {},
   "outputs": [
    {
     "data": {
      "text/plain": [
       "array([ 0,  2,  4,  6,  8, 10, 12, 14, 16, 18, 20, 22, 24, 26, 28])"
      ]
     },
     "execution_count": 7,
     "metadata": {},
     "output_type": "execute_result"
    }
   ],
   "source": [
    "np.arange(0,30, step=2)"
   ]
  },
  {
   "cell_type": "code",
   "execution_count": 8,
   "metadata": {},
   "outputs": [
    {
     "data": {
      "text/plain": [
       "array([  1.,  10., 100.])"
      ]
     },
     "execution_count": 8,
     "metadata": {},
     "output_type": "execute_result"
    }
   ],
   "source": [
    "np.logspace(0,2,3)"
   ]
  },
  {
   "cell_type": "code",
   "execution_count": 10,
   "metadata": {},
   "outputs": [
    {
     "data": {
      "text/plain": [
       "array([[ 0.90392362,  0.77453277,  1.9393552 ,  0.73421771, -2.23710954],\n",
       "       [-0.73628508,  0.31683435,  0.1715277 ,  1.60143288, -1.39589968],\n",
       "       [-0.05829435, -0.66739403, -0.45162732, -1.57370626, -1.34739575],\n",
       "       [-0.22814086,  0.96862999,  0.89144513, -1.30887671,  0.65869743]])"
      ]
     },
     "execution_count": 10,
     "metadata": {},
     "output_type": "execute_result"
    }
   ],
   "source": [
    "np.random.normal(0,1,(4,5))"
   ]
  },
  {
   "cell_type": "code",
   "execution_count": 12,
   "metadata": {},
   "outputs": [
    {
     "data": {
      "text/plain": [
       "array([0.35234372, 0.25002986, 0.85325744, ..., 0.85907381, 0.02335561,\n",
       "       0.55398203])"
      ]
     },
     "execution_count": 12,
     "metadata": {},
     "output_type": "execute_result"
    }
   ],
   "source": [
    "np.random.uniform(0,1,1000000000)"
   ]
  },
  {
   "cell_type": "code",
   "execution_count": 17,
   "metadata": {},
   "outputs": [
    {
     "data": {
      "text/plain": [
       "array(['lisi', 'wangwu', 'zhangsan'], dtype='<U8')"
      ]
     },
     "execution_count": 17,
     "metadata": {},
     "output_type": "execute_result"
    }
   ],
   "source": [
    "temp = np.array([['zhangsan', 'lisi'],['lisi','wangwu'],['zhangsan']])\n",
    "temp = [j for i in temp for j in i]\n",
    "np.unique(temp)"
   ]
  },
  {
   "cell_type": "code",
   "execution_count": 26,
   "metadata": {},
   "outputs": [
    {
     "data": {
      "text/plain": [
       "array([86, 48, 42, 78, 44, 70, 44, 52, 77, 47, 73, 58, 42, 75, 70, 47, 40,\n",
       "       40, 86, 50, 74, 67, 66, 65, 57, 73, 80, 57, 42, 58, 64, 69, 69, 48,\n",
       "       69, 64, 42, 75, 55, 53, 88, 59, 47, 57, 50, 75, 77, 53, 80, 62, 67,\n",
       "       51, 85, 48, 64, 86, 50, 76, 79, 82, 40, 78, 47, 83, 73, 77, 88, 84,\n",
       "       71, 88, 49, 49, 80, 47, 56, 70, 85, 48, 46, 73, 78, 46, 63, 76, 44,\n",
       "       41, 87, 66, 50, 49, 55, 78, 50, 63, 43, 42, 43, 42, 75, 40])"
      ]
     },
     "execution_count": 26,
     "metadata": {},
     "output_type": "execute_result"
    }
   ],
   "source": [
    "score = np.random.randint(40, 90, 100)\n",
    "score\n"
   ]
  },
  {
   "cell_type": "code",
   "execution_count": 28,
   "metadata": {},
   "outputs": [
    {
     "data": {
      "text/plain": [
       "False"
      ]
     },
     "execution_count": 28,
     "metadata": {},
     "output_type": "execute_result"
    }
   ],
   "source": [
    "np.all(score>60)"
   ]
  },
  {
   "cell_type": "code",
   "execution_count": 29,
   "metadata": {},
   "outputs": [
    {
     "data": {
      "text/plain": [
       "array([86, 48, 42, 78, 44, 70, 44, 52, 77, 47, 73, 58, 42, 75, 70, 47, 40,\n",
       "       40, 86, 50, 74, 67, 66, 65, 57, 73, 80, 57, 42, 58, 64, 69, 69, 48,\n",
       "       69, 64, 42, 75, 55, 53, 88, 59, 47, 57, 50, 75, 77, 53, 80, 62, 67,\n",
       "       51, 85, 48, 64, 86, 50, 76, 79, 82, 40, 78, 47, 83, 73, 77, 88, 84,\n",
       "       71, 88, 49, 49, 80, 47, 56, 70, 85, 48, 46, 73, 78, 46, 63, 76, 44,\n",
       "       41, 87, 66, 50, 49, 55, 78, 50, 63, 43, 42, 43, 42, 75, 40])"
      ]
     },
     "execution_count": 29,
     "metadata": {},
     "output_type": "execute_result"
    }
   ],
   "source": [
    "score"
   ]
  },
  {
   "cell_type": "code",
   "execution_count": 31,
   "metadata": {},
   "outputs": [
    {
     "data": {
      "text/plain": [
       "array([100,   0,   0, 100,   0, 100,   0,   0, 100,   0, 100,   0,   0,\n",
       "       100, 100,   0,   0,   0, 100,   0, 100, 100, 100, 100,   0, 100,\n",
       "       100,   0,   0,   0, 100, 100, 100,   0, 100, 100,   0, 100,   0,\n",
       "         0, 100,   0,   0,   0,   0, 100, 100,   0, 100, 100, 100,   0,\n",
       "       100,   0, 100, 100,   0, 100, 100, 100,   0, 100,   0, 100, 100,\n",
       "       100, 100, 100, 100, 100,   0,   0, 100,   0,   0, 100, 100,   0,\n",
       "         0, 100, 100,   0, 100, 100,   0,   0, 100, 100,   0,   0,   0,\n",
       "       100,   0, 100,   0,   0,   0,   0, 100,   0])"
      ]
     },
     "execution_count": 31,
     "metadata": {},
     "output_type": "execute_result"
    }
   ],
   "source": [
    "np.where(score>60, 100, 0)"
   ]
  },
  {
   "cell_type": "code",
   "execution_count": 33,
   "metadata": {},
   "outputs": [
    {
     "data": {
      "text/plain": [
       "array([[90, 75, 46, 54, 40, 62, 77, 61, 86, 56],\n",
       "       [70, 82, 48, 90, 72, 68, 74, 46, 69, 83],\n",
       "       [47, 40, 82, 73, 71, 64, 51, 54, 84, 43],\n",
       "       [56, 59, 57, 77, 53, 91, 49, 71, 78, 73],\n",
       "       [78, 97, 72, 96, 44, 79, 92, 54, 77, 86],\n",
       "       [91, 79, 62, 47, 70, 96, 47, 70, 80, 81],\n",
       "       [59, 90, 45, 80, 59, 49, 57, 64, 45, 94],\n",
       "       [75, 42, 66, 95, 77, 75, 56, 42, 82, 71],\n",
       "       [83, 90, 53, 40, 76, 61, 84, 72, 47, 96],\n",
       "       [91, 44, 58, 41, 74, 49, 51, 61, 78, 77]])"
      ]
     },
     "execution_count": 33,
     "metadata": {},
     "output_type": "execute_result"
    }
   ],
   "source": [
    "score = np.random.randint(40, 100, [10, 10])\n",
    "score"
   ]
  },
  {
   "cell_type": "code",
   "execution_count": 36,
   "metadata": {},
   "outputs": [
    {
     "data": {
      "text/plain": [
       "array([[0, 1, 0, 0, 0, 1, 1, 1, 1, 0],\n",
       "       [1, 1, 0, 0, 1, 1, 1, 0, 1, 1],\n",
       "       [0, 0, 1, 1, 1, 1, 0, 0, 1, 0],\n",
       "       [0, 0, 0, 1, 0, 0, 0, 1, 1, 1],\n",
       "       [1, 0, 1, 0, 0, 1, 0, 0, 1, 1],\n",
       "       [0, 1, 1, 0, 1, 0, 0, 1, 1, 1],\n",
       "       [0, 0, 0, 1, 0, 0, 0, 1, 0, 0],\n",
       "       [1, 0, 1, 0, 1, 1, 0, 0, 1, 1],\n",
       "       [1, 0, 0, 0, 1, 1, 1, 1, 0, 0],\n",
       "       [0, 0, 0, 0, 1, 0, 0, 1, 1, 1]])"
      ]
     },
     "execution_count": 36,
     "metadata": {},
     "output_type": "execute_result"
    }
   ],
   "source": [
    "np.where(np.logical_and(score >60 , score < 90), 1, 0)"
   ]
  },
  {
   "cell_type": "code",
   "execution_count": 37,
   "metadata": {},
   "outputs": [
    {
     "data": {
      "text/plain": [
       "array([[0, 0, 1, 1, 1, 0, 0, 0, 0, 1],\n",
       "       [0, 0, 1, 0, 0, 0, 0, 1, 0, 0],\n",
       "       [1, 1, 0, 0, 0, 0, 1, 1, 0, 1],\n",
       "       [1, 1, 1, 0, 1, 1, 1, 0, 0, 0],\n",
       "       [0, 1, 0, 1, 1, 0, 1, 1, 0, 0],\n",
       "       [1, 0, 0, 1, 0, 1, 1, 0, 0, 0],\n",
       "       [1, 0, 1, 0, 1, 1, 1, 0, 1, 1],\n",
       "       [0, 1, 0, 1, 0, 0, 1, 1, 0, 0],\n",
       "       [0, 0, 1, 1, 0, 0, 0, 0, 1, 1],\n",
       "       [1, 1, 1, 1, 0, 1, 1, 0, 0, 0]])"
      ]
     },
     "execution_count": 37,
     "metadata": {},
     "output_type": "execute_result"
    }
   ],
   "source": [
    "np.where(np.logical_or(score>90, score<60), 1, 0)"
   ]
  },
  {
   "cell_type": "code",
   "execution_count": 38,
   "metadata": {},
   "outputs": [],
   "source": [
    "import numpy as np\n",
    "import pandas as pd\n",
    "import random"
   ]
  },
  {
   "cell_type": "code",
   "execution_count": 47,
   "metadata": {},
   "outputs": [
    {
     "data": {
      "text/html": [
       "<div>\n",
       "<style scoped>\n",
       "    .dataframe tbody tr th:only-of-type {\n",
       "        vertical-align: middle;\n",
       "    }\n",
       "\n",
       "    .dataframe tbody tr th {\n",
       "        vertical-align: top;\n",
       "    }\n",
       "\n",
       "    .dataframe thead th {\n",
       "        text-align: right;\n",
       "    }\n",
       "</style>\n",
       "<table border=\"1\" class=\"dataframe\">\n",
       "  <thead>\n",
       "    <tr style=\"text-align: right;\">\n",
       "      <th></th>\n",
       "      <th>math</th>\n",
       "      <th>physics</th>\n",
       "      <th>chemical</th>\n",
       "      <th>bio</th>\n",
       "      <th>literature</th>\n",
       "    </tr>\n",
       "  </thead>\n",
       "  <tbody>\n",
       "    <tr>\n",
       "      <th>stu0</th>\n",
       "      <td>46</td>\n",
       "      <td>50</td>\n",
       "      <td>53</td>\n",
       "      <td>58</td>\n",
       "      <td>59</td>\n",
       "    </tr>\n",
       "    <tr>\n",
       "      <th>stu1</th>\n",
       "      <td>47</td>\n",
       "      <td>47</td>\n",
       "      <td>51</td>\n",
       "      <td>56</td>\n",
       "      <td>56</td>\n",
       "    </tr>\n",
       "    <tr>\n",
       "      <th>stu2</th>\n",
       "      <td>56</td>\n",
       "      <td>46</td>\n",
       "      <td>46</td>\n",
       "      <td>50</td>\n",
       "      <td>53</td>\n",
       "    </tr>\n",
       "    <tr>\n",
       "      <th>stu3</th>\n",
       "      <td>59</td>\n",
       "      <td>58</td>\n",
       "      <td>50</td>\n",
       "      <td>47</td>\n",
       "      <td>49</td>\n",
       "    </tr>\n",
       "    <tr>\n",
       "      <th>stu4</th>\n",
       "      <td>59</td>\n",
       "      <td>58</td>\n",
       "      <td>46</td>\n",
       "      <td>59</td>\n",
       "      <td>47</td>\n",
       "    </tr>\n",
       "    <tr>\n",
       "      <th>stu5</th>\n",
       "      <td>52</td>\n",
       "      <td>50</td>\n",
       "      <td>57</td>\n",
       "      <td>58</td>\n",
       "      <td>47</td>\n",
       "    </tr>\n",
       "    <tr>\n",
       "      <th>stu6</th>\n",
       "      <td>57</td>\n",
       "      <td>46</td>\n",
       "      <td>58</td>\n",
       "      <td>57</td>\n",
       "      <td>50</td>\n",
       "    </tr>\n",
       "    <tr>\n",
       "      <th>stu7</th>\n",
       "      <td>59</td>\n",
       "      <td>46</td>\n",
       "      <td>48</td>\n",
       "      <td>50</td>\n",
       "      <td>59</td>\n",
       "    </tr>\n",
       "    <tr>\n",
       "      <th>stu8</th>\n",
       "      <td>57</td>\n",
       "      <td>50</td>\n",
       "      <td>52</td>\n",
       "      <td>59</td>\n",
       "      <td>51</td>\n",
       "    </tr>\n",
       "    <tr>\n",
       "      <th>stu9</th>\n",
       "      <td>49</td>\n",
       "      <td>47</td>\n",
       "      <td>52</td>\n",
       "      <td>59</td>\n",
       "      <td>57</td>\n",
       "    </tr>\n",
       "  </tbody>\n",
       "</table>\n",
       "</div>"
      ],
      "text/plain": [
       "      math  physics  chemical  bio  literature\n",
       "stu0    46       50        53   58          59\n",
       "stu1    47       47        51   56          56\n",
       "stu2    56       46        46   50          53\n",
       "stu3    59       58        50   47          49\n",
       "stu4    59       58        46   59          47\n",
       "stu5    52       50        57   58          47\n",
       "stu6    57       46        58   57          50\n",
       "stu7    59       46        48   50          59\n",
       "stu8    57       50        52   59          51\n",
       "stu9    49       47        52   59          57"
      ]
     },
     "execution_count": 47,
     "metadata": {},
     "output_type": "execute_result"
    }
   ],
   "source": [
    "score = np.random.randint(46, 60, [10, 5])\n",
    "score_df = pd.DataFrame(score)\n",
    "\n",
    "subject = ['math', 'physics', 'chemical', 'bio', 'literature']\n",
    "index = ['stu'+str(i) for i in range(score_df.shape[0])]\n",
    "data = pd.DataFrame(score, columns=subject, index=index)\n",
    "data"
   ]
  },
  {
   "cell_type": "code",
   "execution_count": 50,
   "metadata": {},
   "outputs": [
    {
     "data": {
      "text/html": [
       "<div>\n",
       "<style scoped>\n",
       "    .dataframe tbody tr th:only-of-type {\n",
       "        vertical-align: middle;\n",
       "    }\n",
       "\n",
       "    .dataframe tbody tr th {\n",
       "        vertical-align: top;\n",
       "    }\n",
       "\n",
       "    .dataframe thead th {\n",
       "        text-align: right;\n",
       "    }\n",
       "</style>\n",
       "<table border=\"1\" class=\"dataframe\">\n",
       "  <thead>\n",
       "    <tr style=\"text-align: right;\">\n",
       "      <th></th>\n",
       "      <th>index</th>\n",
       "      <th>math</th>\n",
       "      <th>physics</th>\n",
       "      <th>chemical</th>\n",
       "      <th>bio</th>\n",
       "      <th>literature</th>\n",
       "    </tr>\n",
       "  </thead>\n",
       "  <tbody>\n",
       "    <tr>\n",
       "      <th>0</th>\n",
       "      <td>stu0</td>\n",
       "      <td>46</td>\n",
       "      <td>50</td>\n",
       "      <td>53</td>\n",
       "      <td>58</td>\n",
       "      <td>59</td>\n",
       "    </tr>\n",
       "    <tr>\n",
       "      <th>1</th>\n",
       "      <td>stu1</td>\n",
       "      <td>47</td>\n",
       "      <td>47</td>\n",
       "      <td>51</td>\n",
       "      <td>56</td>\n",
       "      <td>56</td>\n",
       "    </tr>\n",
       "    <tr>\n",
       "      <th>2</th>\n",
       "      <td>stu2</td>\n",
       "      <td>56</td>\n",
       "      <td>46</td>\n",
       "      <td>46</td>\n",
       "      <td>50</td>\n",
       "      <td>53</td>\n",
       "    </tr>\n",
       "    <tr>\n",
       "      <th>3</th>\n",
       "      <td>stu3</td>\n",
       "      <td>59</td>\n",
       "      <td>58</td>\n",
       "      <td>50</td>\n",
       "      <td>47</td>\n",
       "      <td>49</td>\n",
       "    </tr>\n",
       "    <tr>\n",
       "      <th>4</th>\n",
       "      <td>stu4</td>\n",
       "      <td>59</td>\n",
       "      <td>58</td>\n",
       "      <td>46</td>\n",
       "      <td>59</td>\n",
       "      <td>47</td>\n",
       "    </tr>\n",
       "    <tr>\n",
       "      <th>5</th>\n",
       "      <td>stu5</td>\n",
       "      <td>52</td>\n",
       "      <td>50</td>\n",
       "      <td>57</td>\n",
       "      <td>58</td>\n",
       "      <td>47</td>\n",
       "    </tr>\n",
       "    <tr>\n",
       "      <th>6</th>\n",
       "      <td>stu6</td>\n",
       "      <td>57</td>\n",
       "      <td>46</td>\n",
       "      <td>58</td>\n",
       "      <td>57</td>\n",
       "      <td>50</td>\n",
       "    </tr>\n",
       "    <tr>\n",
       "      <th>7</th>\n",
       "      <td>stu7</td>\n",
       "      <td>59</td>\n",
       "      <td>46</td>\n",
       "      <td>48</td>\n",
       "      <td>50</td>\n",
       "      <td>59</td>\n",
       "    </tr>\n",
       "    <tr>\n",
       "      <th>8</th>\n",
       "      <td>stu8</td>\n",
       "      <td>57</td>\n",
       "      <td>50</td>\n",
       "      <td>52</td>\n",
       "      <td>59</td>\n",
       "      <td>51</td>\n",
       "    </tr>\n",
       "    <tr>\n",
       "      <th>9</th>\n",
       "      <td>stu9</td>\n",
       "      <td>49</td>\n",
       "      <td>47</td>\n",
       "      <td>52</td>\n",
       "      <td>59</td>\n",
       "      <td>57</td>\n",
       "    </tr>\n",
       "  </tbody>\n",
       "</table>\n",
       "</div>"
      ],
      "text/plain": [
       "  index  math  physics  chemical  bio  literature\n",
       "0  stu0    46       50        53   58          59\n",
       "1  stu1    47       47        51   56          56\n",
       "2  stu2    56       46        46   50          53\n",
       "3  stu3    59       58        50   47          49\n",
       "4  stu4    59       58        46   59          47\n",
       "5  stu5    52       50        57   58          47\n",
       "6  stu6    57       46        58   57          50\n",
       "7  stu7    59       46        48   50          59\n",
       "8  stu8    57       50        52   59          51\n",
       "9  stu9    49       47        52   59          57"
      ]
     },
     "execution_count": 50,
     "metadata": {},
     "output_type": "execute_result"
    }
   ],
   "source": [
    "data.reset_index(drop=False)"
   ]
  },
  {
   "cell_type": "code",
   "execution_count": null,
   "metadata": {},
   "outputs": [],
   "source": []
  }
 ],
 "metadata": {
  "kernelspec": {
   "display_name": "Python 3",
   "language": "python",
   "name": "python3"
  },
  "language_info": {
   "codemirror_mode": {
    "name": "ipython",
    "version": 3
   },
   "file_extension": ".py",
   "mimetype": "text/x-python",
   "name": "python",
   "nbconvert_exporter": "python",
   "pygments_lexer": "ipython3",
   "version": "3.6.5"
  }
 },
 "nbformat": 4,
 "nbformat_minor": 2
}
