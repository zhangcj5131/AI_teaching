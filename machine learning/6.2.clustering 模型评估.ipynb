{
 "cells": [
  {
   "cell_type": "markdown",
   "metadata": {},
   "source": [
    "# 误差平方和(SSE \\The sum of squares due to error)：\n",
    "\n",
    "注意: 对于kmeans,如果质心的随机值选择不好,SSE只会达到一个不怎么好的局部最优解.\n",
    "\n",
    "![avatar](../source/125.jpg) "
   ]
  },
  {
   "cell_type": "markdown",
   "metadata": {},
   "source": [
    "# “肘”方法 (Elbow method) — K值确定\n",
    "- 用于确定参数 k\n",
    "- 在决定什么时候停止训练时，肘形判据同样有效，数据通常有更多的噪音，在增加分类无法带来更多回报时，我们停止增加类别。\n",
    "![avatar](../source/126.jpg) "
   ]
  },
  {
   "cell_type": "markdown",
   "metadata": {},
   "source": [
    "# 轮廓系数法（Silhouette Coefficient）\n",
    "结合了聚类的凝聚度（Cohesion）和分离度（Separation），用于评估聚类的效果：\n",
    "目标:内部距离最小化，外部距离最大化\n",
    "![avatar](../source/127.jpg) \n",
    "\n",
    "- 计算样本i到同簇其他样本的平均距离ai，ai 越小样本i的簇内不相似度越小，说明样本i越应该被聚类到该簇。这个值越小越好\n",
    "\n",
    "- 计算样本i到最近簇Cj 的所有样本的平均距离bij，称样本i与最近簇Cj 的不相似度，定义为样本i的簇间不相似度：bi =min{bi1, bi2, ..., bik}，bi越大，说明样本i越不属于其他簇。这个值越大越好\n",
    "\n",
    "- 求出所有样本的轮廓系数后再求平均值就得到了平均轮廓系数。\n",
    "\n",
    "- 平均轮廓系数的取值范围为[-1,1]，系数越大，聚类效果越好。\n",
    "\n",
    "- 簇内样本的距离越近，簇间样本距离越远\n",
    "\n",
    "![avatar](../source/128.jpg) \n",
    "![avatar](../source/129.jpg) "
   ]
  },
  {
   "cell_type": "markdown",
   "metadata": {},
   "source": [
    "# CH系数（Calinski-Harabasz Index）\n",
    "\n",
    "- 类别内部数据的协方差越小越好，类别之间的协方差越大越好（换句话说：类别内部数据的距离平方和越小越好，类别之间的距离平方和越大越好），\n",
    "\n",
    "- 这样的Calinski-Harabasz分数s会高，分数s高则聚类效果越好。\n",
    "\n",
    "- 用尽量少的类别聚类尽量多的样本，同时获得较好的聚类效果。\n",
    "![avatar](../source/130.jpg) "
   ]
  },
  {
   "cell_type": "code",
   "execution_count": null,
   "metadata": {},
   "outputs": [],
   "source": []
  }
 ],
 "metadata": {
  "kernelspec": {
   "display_name": "Python 3",
   "language": "python",
   "name": "python3"
  },
  "language_info": {
   "codemirror_mode": {
    "name": "ipython",
    "version": 3
   },
   "file_extension": ".py",
   "mimetype": "text/x-python",
   "name": "python",
   "nbconvert_exporter": "python",
   "pygments_lexer": "ipython3",
   "version": "3.7.9"
  }
 },
 "nbformat": 4,
 "nbformat_minor": 4
}
