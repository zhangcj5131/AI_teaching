{
 "cells": [
  {
   "cell_type": "markdown",
   "metadata": {},
   "source": [
    "# 特征降维:特征选择\n",
    "- 学习目标\n",
    "    - 了解降维的定义\n",
    "    - 知道通过低方差过滤实现降维过程\n",
    "    - 知道相关系数实现降维的过程\n",
    "    - 知道主成分分析法实现过程\n",
    "    \n",
    "\n",
    "> 降维是指在某些限定条件下，降低随机变量(特征)个数，得到一组“不相关”主变量的过程,降低随机变量的个数\n",
    "\n",
    "- 降维的两种方式\n",
    "    - 特征选择\n",
    "    - 主成分分析（可以理解一种特征提取的方式）\n",
    "\n",
    "\n",
    "## 1.特征选择\n",
    "\n",
    "> 1.1 定义:数据中包含冗余或无关变量（或称特征、属性、指标等），旨在从原有特征中找出主要特征。\n",
    "\n",
    "\n",
    "1.2 方法\n",
    "- Filter(过滤式)：主要探究特征本身特点、特征与特征和目标值之间关联\n",
    "    - 方差选择法：低方差特征过滤\n",
    "    - 相关系数\n",
    "- Embedded (嵌入式)：算法自动选择特征（特征与目标值之间的关联）\n",
    "    - 决策树:信息熵、信息增益\n",
    "    - 正则化：L1、L2\n",
    "    - 深度学习：卷积等\n",
    "    \n",
    "    \n",
    "- 1.3 低方差特征过滤\n",
    "    - 特征方差小：某个特征大多样本的值比较相近\n",
    "    - 特征方差大：某个特征很多样本的值都有差别\n",
    "    \n",
    "    \n",
    "- 1.3.1 API\n",
    "    - sklearn.feature_selection.VarianceThreshold(threshold = 0.0)\n",
    "        - 删除所有低方差特征\n",
    "        - Variance.fit_transform(X)\n",
    "        - X:numpy array格式的数据[n_samples,n_features]\n",
    "        - 返回值：训练集差异低于threshold的特征将被删除。默认值是保留所有非零方差特征，即删除所有样本中具有相同值的特征。\n",
    "        \n"
   ]
  },
  {
   "cell_type": "code",
   "execution_count": 9,
   "metadata": {},
   "outputs": [
    {
     "name": "stdout",
     "output_type": "stream",
     "text": [
      "(2318, 12)\n"
     ]
    },
    {
     "data": {
      "text/html": [
       "<div>\n",
       "<style scoped>\n",
       "    .dataframe tbody tr th:only-of-type {\n",
       "        vertical-align: middle;\n",
       "    }\n",
       "\n",
       "    .dataframe tbody tr th {\n",
       "        vertical-align: top;\n",
       "    }\n",
       "\n",
       "    .dataframe thead th {\n",
       "        text-align: right;\n",
       "    }\n",
       "</style>\n",
       "<table border=\"1\" class=\"dataframe\">\n",
       "  <thead>\n",
       "    <tr style=\"text-align: right;\">\n",
       "      <th></th>\n",
       "      <th>index</th>\n",
       "      <th>pe_ratio</th>\n",
       "      <th>pb_ratio</th>\n",
       "      <th>market_cap</th>\n",
       "      <th>return_on_asset_net_profit</th>\n",
       "      <th>du_return_on_equity</th>\n",
       "      <th>ev</th>\n",
       "      <th>earnings_per_share</th>\n",
       "      <th>revenue</th>\n",
       "      <th>total_expense</th>\n",
       "      <th>date</th>\n",
       "      <th>return</th>\n",
       "    </tr>\n",
       "  </thead>\n",
       "  <tbody>\n",
       "    <tr>\n",
       "      <th>0</th>\n",
       "      <td>000001.XSHE</td>\n",
       "      <td>5.9572</td>\n",
       "      <td>1.1818</td>\n",
       "      <td>8.525255e+10</td>\n",
       "      <td>0.8008</td>\n",
       "      <td>14.9403</td>\n",
       "      <td>1.211445e+12</td>\n",
       "      <td>2.010</td>\n",
       "      <td>2.070140e+10</td>\n",
       "      <td>1.088254e+10</td>\n",
       "      <td>2012-01-31</td>\n",
       "      <td>0.027657</td>\n",
       "    </tr>\n",
       "    <tr>\n",
       "      <th>1</th>\n",
       "      <td>000002.XSHE</td>\n",
       "      <td>7.0289</td>\n",
       "      <td>1.5880</td>\n",
       "      <td>8.411336e+10</td>\n",
       "      <td>1.6463</td>\n",
       "      <td>7.8656</td>\n",
       "      <td>3.002521e+11</td>\n",
       "      <td>0.326</td>\n",
       "      <td>2.930837e+10</td>\n",
       "      <td>2.378348e+10</td>\n",
       "      <td>2012-01-31</td>\n",
       "      <td>0.082352</td>\n",
       "    </tr>\n",
       "    <tr>\n",
       "      <th>2</th>\n",
       "      <td>000008.XSHE</td>\n",
       "      <td>-262.7461</td>\n",
       "      <td>7.0003</td>\n",
       "      <td>5.170455e+08</td>\n",
       "      <td>-0.5678</td>\n",
       "      <td>-0.5943</td>\n",
       "      <td>7.705178e+08</td>\n",
       "      <td>-0.006</td>\n",
       "      <td>1.167983e+07</td>\n",
       "      <td>1.203008e+07</td>\n",
       "      <td>2012-01-31</td>\n",
       "      <td>0.099789</td>\n",
       "    </tr>\n",
       "    <tr>\n",
       "      <th>3</th>\n",
       "      <td>000060.XSHE</td>\n",
       "      <td>16.4760</td>\n",
       "      <td>3.7146</td>\n",
       "      <td>1.968046e+10</td>\n",
       "      <td>5.6036</td>\n",
       "      <td>14.6170</td>\n",
       "      <td>2.800916e+10</td>\n",
       "      <td>0.350</td>\n",
       "      <td>9.189387e+09</td>\n",
       "      <td>7.935543e+09</td>\n",
       "      <td>2012-01-31</td>\n",
       "      <td>0.121595</td>\n",
       "    </tr>\n",
       "    <tr>\n",
       "      <th>4</th>\n",
       "      <td>000069.XSHE</td>\n",
       "      <td>12.5878</td>\n",
       "      <td>2.5616</td>\n",
       "      <td>4.172721e+10</td>\n",
       "      <td>2.8729</td>\n",
       "      <td>10.9097</td>\n",
       "      <td>8.124738e+10</td>\n",
       "      <td>0.271</td>\n",
       "      <td>8.951453e+09</td>\n",
       "      <td>7.091398e+09</td>\n",
       "      <td>2012-01-31</td>\n",
       "      <td>-0.002681</td>\n",
       "    </tr>\n",
       "  </tbody>\n",
       "</table>\n",
       "</div>"
      ],
      "text/plain": [
       "         index  pe_ratio  pb_ratio    market_cap  return_on_asset_net_profit  \\\n",
       "0  000001.XSHE    5.9572    1.1818  8.525255e+10                      0.8008   \n",
       "1  000002.XSHE    7.0289    1.5880  8.411336e+10                      1.6463   \n",
       "2  000008.XSHE -262.7461    7.0003  5.170455e+08                     -0.5678   \n",
       "3  000060.XSHE   16.4760    3.7146  1.968046e+10                      5.6036   \n",
       "4  000069.XSHE   12.5878    2.5616  4.172721e+10                      2.8729   \n",
       "\n",
       "   du_return_on_equity            ev  earnings_per_share       revenue  \\\n",
       "0              14.9403  1.211445e+12               2.010  2.070140e+10   \n",
       "1               7.8656  3.002521e+11               0.326  2.930837e+10   \n",
       "2              -0.5943  7.705178e+08              -0.006  1.167983e+07   \n",
       "3              14.6170  2.800916e+10               0.350  9.189387e+09   \n",
       "4              10.9097  8.124738e+10               0.271  8.951453e+09   \n",
       "\n",
       "   total_expense        date    return  \n",
       "0   1.088254e+10  2012-01-31  0.027657  \n",
       "1   2.378348e+10  2012-01-31  0.082352  \n",
       "2   1.203008e+07  2012-01-31  0.099789  \n",
       "3   7.935543e+09  2012-01-31  0.121595  \n",
       "4   7.091398e+09  2012-01-31 -0.002681  "
      ]
     },
     "execution_count": 9,
     "metadata": {},
     "output_type": "execute_result"
    }
   ],
   "source": [
    "import pandas as pd\n",
    "from sklearn.feature_selection import VarianceThreshold\n",
    "data = pd.read_csv('../data/factor_returns.csv')\n",
    "print(data.shape)\n",
    "data.head()"
   ]
  },
  {
   "cell_type": "code",
   "execution_count": 14,
   "metadata": {},
   "outputs": [],
   "source": [
    "def variance_demo(data, var_thread):\n",
    "    \"\"\"\n",
    "    删除低方差特征——特征选择\n",
    "    :return: None\n",
    "    \"\"\"\n",
    "    # 1、实例化一个转换器类,删除方差小于threshold的属性\n",
    "    transfer = VarianceThreshold(threshold=var_thread)\n",
    "    # 2、调用fit_transform\n",
    "    transfer_data = transfer.fit_transform(data.iloc[:, 1:10])\n",
    "    print('降维前 shape:', data.iloc[:, 1:10].shape)\n",
    "    print(\"删除低方差特征的结果：\\n\", transfer_data)\n",
    "    print(\"降维后形状：\\n\", transfer_data.shape)\n",
    "\n",
    "    return None"
   ]
  },
  {
   "cell_type": "code",
   "execution_count": 15,
   "metadata": {},
   "outputs": [
    {
     "name": "stdout",
     "output_type": "stream",
     "text": [
      "降维前 shape: (2318, 9)\n",
      "删除低方差特征的结果：\n",
      " [[ 5.95720000e+00  8.52525509e+10  8.00800000e-01 ...  1.21144486e+12\n",
      "   2.07014010e+10  1.08825400e+10]\n",
      " [ 7.02890000e+00  8.41133582e+10  1.64630000e+00 ...  3.00252062e+11\n",
      "   2.93083692e+10  2.37834769e+10]\n",
      " [-2.62746100e+02  5.17045520e+08 -5.67800000e-01 ...  7.70517753e+08\n",
      "   1.16798290e+07  1.20300800e+07]\n",
      " ...\n",
      " [ 3.95523000e+01  1.70243430e+10  3.34400000e+00 ...  2.42081699e+10\n",
      "   1.78908166e+10  1.74929478e+10]\n",
      " [ 5.25408000e+01  3.28790988e+10  2.74440000e+00 ...  3.88380258e+10\n",
      "   6.46539204e+09  6.00900728e+09]\n",
      " [ 1.42203000e+01  5.91108572e+10  2.03830000e+00 ...  2.02066110e+11\n",
      "   4.50987171e+10  4.13284212e+10]]\n",
      "降维后形状：\n",
      " (2318, 7)\n"
     ]
    }
   ],
   "source": [
    "\n",
    "variance_demo(data,10)"
   ]
  },
  {
   "cell_type": "markdown",
   "metadata": {},
   "source": [
    "## 1.4 相关系数\n",
    "- 皮尔逊相关系数\n",
    "- 斯皮尔曼相关系数\n",
    "\n",
    "- 1.4.1 皮尔逊相关系数(Pearson Correlation Coefficient)\n",
    "    - 反映变量之间相关关系密切程度的统计指标\n",
    "![avatar](../source/135.jpg)\n",
    "- 当r>0时，表示两变量正相关，r<0时，两变量为负相关\n",
    "- 当|r|=1时，表示两变量为完全相关，当r=0时，表示两变量间无相关关系\n",
    "- |r|<0.4为低度相关；0.4≤|r|<0.7为显著性相关；0.7≤|r|<1为高度线性相关\n",
    "\n",
    "\n",
    "- from scipy.stats import pearsonr\n",
    "    - x : (N,) array_like\n",
    "    - y : (N,) array_like Returns: (Pearson’s correlation coefficient, p-value)\n"
   ]
  },
  {
   "cell_type": "code",
   "execution_count": 17,
   "metadata": {},
   "outputs": [
    {
     "data": {
      "text/plain": [
       "(0.9941983762371883, 4.9220899554573455e-09)"
      ]
     },
     "execution_count": 17,
     "metadata": {},
     "output_type": "execute_result"
    }
   ],
   "source": [
    "from scipy.stats import pearsonr\n",
    "\n",
    "x1 = [12.5, 15.3, 23.2, 26.4, 33.5, 34.4, 39.4, 45.2, 55.4, 60.9]\n",
    "x2 = [21.2, 23.9, 32.9, 34.1, 42.5, 43.2, 49.0, 52.8, 59.4, 63.5]\n",
    "#返回两个值,第一个是pearsonr 系数,约接近 1 越好,第二个是另外一个参数,当数组长度多余 500 的时候有参考意义,它约接近 0 约好\n",
    "pearsonr(x1, x2)"
   ]
  },
  {
   "cell_type": "markdown",
   "metadata": {},
   "source": [
    "## 1.4.2 斯皮尔曼相关系数(Rank IC)\n",
    "\n",
    "- 反映变量之间相关关系密切程度的统计指标\n",
    "![avatar](../source/136.jpg)\n",
    "\n",
    "- 斯皮尔曼相关系数表明 X (自变量) 和 Y (因变量)的相关方向。 如果当X增加时， Y 趋向于增加, 斯皮尔曼相关系数则为正\n",
    "- 与之前的皮尔逊相关系数大小性质一样，取值 [-1, 1]之间\n",
    "- 斯皮尔曼相关系数比皮尔逊相关系数应用更加广泛"
   ]
  },
  {
   "cell_type": "code",
   "execution_count": 18,
   "metadata": {},
   "outputs": [
    {
     "data": {
      "text/plain": [
       "SpearmanrResult(correlation=0.9999999999999999, pvalue=6.646897422032013e-64)"
      ]
     },
     "execution_count": 18,
     "metadata": {},
     "output_type": "execute_result"
    }
   ],
   "source": [
    "from scipy.stats import spearmanr\n",
    "\n",
    "x1 = [12.5, 15.3, 23.2, 26.4, 33.5, 34.4, 39.4, 45.2, 55.4, 60.9]\n",
    "x2 = [21.2, 23.9, 32.9, 34.1, 42.5, 43.2, 49.0, 52.8, 59.4, 63.5]\n",
    "\n",
    "spearmanr(x1, x2)"
   ]
  },
  {
   "cell_type": "markdown",
   "metadata": {},
   "source": [
    "# PCA\n",
    "- 定义：高维数据转化为低维数据的过程，在此过程中可能会舍弃原有数据、创造新的变量\n",
    "- 作用：是数据维数压缩，尽可能降低原数据的维数（复杂度），损失少量信息。\n",
    "- 应用：回归分析或者聚类分析当中\n",
    "\n",
    "\n",
    "\n",
    "\n",
    "\n",
    "- sklearn.decomposition.PCA(n_components=None)\n",
    "    - n_components:\n",
    "        - 小数：表示保留百分之多少的信息\n",
    "        - 整数：减少到多少特征\n",
    "    - PCA.fit_transform(X) X:numpy array格式的数据[n_samples,n_features]\n",
    "    - 返回值：转换后指定维度的array\n"
   ]
  },
  {
   "cell_type": "code",
   "execution_count": 19,
   "metadata": {},
   "outputs": [],
   "source": [
    "from sklearn.decomposition import PCA\n",
    "data = [[2,8,4,5],\n",
    "[6,3,0,8],\n",
    "[5,4,9,1]]\n"
   ]
  },
  {
   "cell_type": "code",
   "execution_count": 20,
   "metadata": {},
   "outputs": [
    {
     "name": "stdout",
     "output_type": "stream",
     "text": [
      "保留90%的信息，降维结果为：\n",
      " [[ 1.28620952e-15  3.82970843e+00]\n",
      " [ 5.74456265e+00 -1.91485422e+00]\n",
      " [-5.74456265e+00 -1.91485422e+00]]\n"
     ]
    }
   ],
   "source": [
    "# 1、实例化PCA, 小数——保留多少信息\n",
    "transfer = PCA(n_components=0.9)\n",
    "# 2、调用fit_transform\n",
    "data1 = transfer.fit_transform(data)\n",
    "\n",
    "print(\"保留90%的信息，降维结果为：\\n\", data1)"
   ]
  },
  {
   "cell_type": "code",
   "execution_count": 22,
   "metadata": {},
   "outputs": [
    {
     "data": {
      "text/plain": [
       "array([[ 1.28620952e-15,  3.82970843e+00,  5.26052119e-16],\n",
       "       [ 5.74456265e+00, -1.91485422e+00,  5.26052119e-16],\n",
       "       [-5.74456265e+00, -1.91485422e+00,  5.26052119e-16]])"
      ]
     },
     "execution_count": 22,
     "metadata": {},
     "output_type": "execute_result"
    }
   ],
   "source": [
    "# 1、实例化PCA, 整数——指定降维到的维数\n",
    "transfer2 = PCA(n_components=3)\n",
    "# 2、调用fit_transform\n",
    "data2 = transfer2.fit_transform(data)\n",
    "data2"
   ]
  },
  {
   "cell_type": "markdown",
   "metadata": {},
   "source": [
    "- 降维的定义【了解】\n",
    "    - 就是改变特征值，选择哪列保留，哪列删除\n",
    "    - 目标是得到一组”不相关“的主变量\n",
    "- 降维的两种方式【了解】\n",
    "    - 特征选择\n",
    "    - 主成分分析（可以理解一种特征提取的方式）\n",
    "- 特征选择【知道】\n",
    "    - 定义：提出数据中的冗余变量\n",
    "        - 方法：\n",
    "            - Filter(过滤式)：主要探究特征本身特点、特征与特征和目标值之间关联\n",
    "                - 方差选择法：低方差特征过滤\n",
    "                - 相关系数\n",
    "            - Embedded (嵌入式)：算法自动选择特征（特征与目标值之间的关联）\n",
    "                - 决策树:信息熵、信息增益\n",
    "                - 正则化：L1、L2\n",
    "- 低方差特征过滤【知道】\n",
    "    - 把方差比较小的某一列进行剔除\n",
    "    - api:sklearn.feature_selection.VarianceThreshold(threshold = 0.0)\n",
    "        - 删除所有低方差特征\n",
    "        - 注意，参数threshold一定要进行值的指定\n",
    "- 相关系数【掌握】\n",
    "    - 主要实现方式：\n",
    "        - 皮尔逊相关系数\n",
    "        - 斯皮尔曼相关系数\n",
    "- 皮尔逊相关系数\n",
    "    - 通过具体值的大小进行计算\n",
    "    - 相对复杂\n",
    "    - api:from scipy.stats import pearsonr\n",
    "    - 返回值，越接近|1|，相关性越强；越接近0，相关性越弱\n",
    "- 斯皮尔曼相关系数\n",
    "    - 通过等级差进行计算\n",
    "    - 比上一个简单\n",
    "    - api:from scipy.stats import spearmanr\n",
    "    - 返回值，越接近|1|，相关性越强；越接近0，相关性越弱\n",
    "- pca【知道】\n",
    "    - 定义：高维数据转换为低维数据，然后产生了新的变量\n",
    "    - api:sklearn.decomposition.PCA(n_components=None)\n",
    "        - n_components\n",
    "        - 整数 -- 表示降低到几维\n",
    "        - 小数 -- 保留百分之多少的信息"
   ]
  },
  {
   "cell_type": "code",
   "execution_count": null,
   "metadata": {},
   "outputs": [],
   "source": []
  }
 ],
 "metadata": {
  "kernelspec": {
   "display_name": "Python 3",
   "language": "python",
   "name": "python3"
  },
  "language_info": {
   "codemirror_mode": {
    "name": "ipython",
    "version": 3
   },
   "file_extension": ".py",
   "mimetype": "text/x-python",
   "name": "python",
   "nbconvert_exporter": "python",
   "pygments_lexer": "ipython3",
   "version": "3.7.9"
  }
 },
 "nbformat": 4,
 "nbformat_minor": 4
}
