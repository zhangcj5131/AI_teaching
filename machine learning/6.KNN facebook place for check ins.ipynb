{
 "cells": [
  {
   "cell_type": "code",
   "execution_count": 1,
   "metadata": {
    "collapsed": true
   },
   "outputs": [
    {
     "name": "stderr",
     "output_type": "stream",
     "text": [
      "/Users/cjz/anaconda3/envs/itcast/lib/python3.7/site-packages/sklearn/utils/__init__.py:4: DeprecationWarning: Using or importing the ABCs from 'collections' instead of from 'collections.abc' is deprecated since Python 3.3,and in 3.9 it will stop working\n",
      "  from collections import Sequence\n"
     ]
    }
   ],
   "source": [
    "import pandas as pd\n",
    "from sklearn.model_selection import train_test_split, GridSearchCV\n",
    "from sklearn.preprocessing import StandardScaler\n",
    "from sklearn.neighbors import KNeighborsClassifier\n",
    "\n"
   ]
  },
  {
   "cell_type": "markdown",
   "source": [
    "- 1.获取数据集\n",
    "- 2.基本数据处理\n",
    "    - 2.1 缩小数据范围\n",
    "    - 2.2 选择时间特征\n",
    "    - 2.3 去掉签到较少的地方\n",
    "    - 2.4 确定特征值和目标值\n",
    "    - 2.5 分割数据集\n",
    "- 3.特征工程 -- 特征预处理(标准化)\n",
    "- 4.机器学习 -- knn+cv\n",
    "- 5.模型评估\n",
    "\n"
   ],
   "metadata": {
    "collapsed": false,
    "pycharm": {
     "name": "#%% md\n"
    }
   }
  },
  {
   "cell_type": "code",
   "execution_count": 2,
   "outputs": [
    {
     "data": {
      "text/plain": "   row_id       x       y  accuracy    time    place_id\n0       0  0.7941  9.0809        54  470702  8523065625\n1       1  5.9567  4.7968        13  186555  1757726713\n2       2  8.3078  7.0407        74  322648  1137537235\n3       3  7.3665  2.5165        65  704587  6567393236\n4       4  4.0961  1.1307        31  472130  7440663949",
      "text/html": "<div>\n<style scoped>\n    .dataframe tbody tr th:only-of-type {\n        vertical-align: middle;\n    }\n\n    .dataframe tbody tr th {\n        vertical-align: top;\n    }\n\n    .dataframe thead th {\n        text-align: right;\n    }\n</style>\n<table border=\"1\" class=\"dataframe\">\n  <thead>\n    <tr style=\"text-align: right;\">\n      <th></th>\n      <th>row_id</th>\n      <th>x</th>\n      <th>y</th>\n      <th>accuracy</th>\n      <th>time</th>\n      <th>place_id</th>\n    </tr>\n  </thead>\n  <tbody>\n    <tr>\n      <th>0</th>\n      <td>0</td>\n      <td>0.7941</td>\n      <td>9.0809</td>\n      <td>54</td>\n      <td>470702</td>\n      <td>8523065625</td>\n    </tr>\n    <tr>\n      <th>1</th>\n      <td>1</td>\n      <td>5.9567</td>\n      <td>4.7968</td>\n      <td>13</td>\n      <td>186555</td>\n      <td>1757726713</td>\n    </tr>\n    <tr>\n      <th>2</th>\n      <td>2</td>\n      <td>8.3078</td>\n      <td>7.0407</td>\n      <td>74</td>\n      <td>322648</td>\n      <td>1137537235</td>\n    </tr>\n    <tr>\n      <th>3</th>\n      <td>3</td>\n      <td>7.3665</td>\n      <td>2.5165</td>\n      <td>65</td>\n      <td>704587</td>\n      <td>6567393236</td>\n    </tr>\n    <tr>\n      <th>4</th>\n      <td>4</td>\n      <td>4.0961</td>\n      <td>1.1307</td>\n      <td>31</td>\n      <td>472130</td>\n      <td>7440663949</td>\n    </tr>\n  </tbody>\n</table>\n</div>"
     },
     "execution_count": 2,
     "metadata": {},
     "output_type": "execute_result"
    }
   ],
   "source": [
    "data = pd.read_csv(\"../data/FBlocation/train.csv\")\n",
    "data.head()"
   ],
   "metadata": {
    "collapsed": false,
    "pycharm": {
     "name": "#%%\n"
    }
   }
  },
  {
   "cell_type": "code",
   "execution_count": 3,
   "outputs": [
    {
     "data": {
      "text/plain": "             row_id             x             y      accuracy          time  \\\ncount  2.911802e+07  2.911802e+07  2.911802e+07  2.911802e+07  2.911802e+07   \nmean   1.455901e+07  4.999770e+00  5.001814e+00  8.284912e+01  4.170104e+05   \nstd    8.405649e+06  2.857601e+00  2.887505e+00  1.147518e+02  2.311761e+05   \nmin    0.000000e+00  0.000000e+00  0.000000e+00  1.000000e+00  1.000000e+00   \n25%    7.279505e+06  2.534700e+00  2.496700e+00  2.700000e+01  2.030570e+05   \n50%    1.455901e+07  5.009100e+00  4.988300e+00  6.200000e+01  4.339220e+05   \n75%    2.183852e+07  7.461400e+00  7.510300e+00  7.500000e+01  6.204910e+05   \nmax    2.911802e+07  1.000000e+01  1.000000e+01  1.033000e+03  7.862390e+05   \n\n           place_id  \ncount  2.911802e+07  \nmean   5.493787e+09  \nstd    2.611088e+09  \nmin    1.000016e+09  \n25%    3.222911e+09  \n50%    5.518573e+09  \n75%    7.764307e+09  \nmax    9.999932e+09  ",
      "text/html": "<div>\n<style scoped>\n    .dataframe tbody tr th:only-of-type {\n        vertical-align: middle;\n    }\n\n    .dataframe tbody tr th {\n        vertical-align: top;\n    }\n\n    .dataframe thead th {\n        text-align: right;\n    }\n</style>\n<table border=\"1\" class=\"dataframe\">\n  <thead>\n    <tr style=\"text-align: right;\">\n      <th></th>\n      <th>row_id</th>\n      <th>x</th>\n      <th>y</th>\n      <th>accuracy</th>\n      <th>time</th>\n      <th>place_id</th>\n    </tr>\n  </thead>\n  <tbody>\n    <tr>\n      <th>count</th>\n      <td>2.911802e+07</td>\n      <td>2.911802e+07</td>\n      <td>2.911802e+07</td>\n      <td>2.911802e+07</td>\n      <td>2.911802e+07</td>\n      <td>2.911802e+07</td>\n    </tr>\n    <tr>\n      <th>mean</th>\n      <td>1.455901e+07</td>\n      <td>4.999770e+00</td>\n      <td>5.001814e+00</td>\n      <td>8.284912e+01</td>\n      <td>4.170104e+05</td>\n      <td>5.493787e+09</td>\n    </tr>\n    <tr>\n      <th>std</th>\n      <td>8.405649e+06</td>\n      <td>2.857601e+00</td>\n      <td>2.887505e+00</td>\n      <td>1.147518e+02</td>\n      <td>2.311761e+05</td>\n      <td>2.611088e+09</td>\n    </tr>\n    <tr>\n      <th>min</th>\n      <td>0.000000e+00</td>\n      <td>0.000000e+00</td>\n      <td>0.000000e+00</td>\n      <td>1.000000e+00</td>\n      <td>1.000000e+00</td>\n      <td>1.000016e+09</td>\n    </tr>\n    <tr>\n      <th>25%</th>\n      <td>7.279505e+06</td>\n      <td>2.534700e+00</td>\n      <td>2.496700e+00</td>\n      <td>2.700000e+01</td>\n      <td>2.030570e+05</td>\n      <td>3.222911e+09</td>\n    </tr>\n    <tr>\n      <th>50%</th>\n      <td>1.455901e+07</td>\n      <td>5.009100e+00</td>\n      <td>4.988300e+00</td>\n      <td>6.200000e+01</td>\n      <td>4.339220e+05</td>\n      <td>5.518573e+09</td>\n    </tr>\n    <tr>\n      <th>75%</th>\n      <td>2.183852e+07</td>\n      <td>7.461400e+00</td>\n      <td>7.510300e+00</td>\n      <td>7.500000e+01</td>\n      <td>6.204910e+05</td>\n      <td>7.764307e+09</td>\n    </tr>\n    <tr>\n      <th>max</th>\n      <td>2.911802e+07</td>\n      <td>1.000000e+01</td>\n      <td>1.000000e+01</td>\n      <td>1.033000e+03</td>\n      <td>7.862390e+05</td>\n      <td>9.999932e+09</td>\n    </tr>\n  </tbody>\n</table>\n</div>"
     },
     "execution_count": 3,
     "metadata": {},
     "output_type": "execute_result"
    }
   ],
   "source": [
    "data.describe()"
   ],
   "metadata": {
    "collapsed": false,
    "pycharm": {
     "name": "#%%\n"
    }
   }
  },
  {
   "cell_type": "code",
   "execution_count": 4,
   "outputs": [
    {
     "data": {
      "text/plain": "(29118021, 6)"
     },
     "execution_count": 4,
     "metadata": {},
     "output_type": "execute_result"
    }
   ],
   "source": [
    "data.shape"
   ],
   "metadata": {
    "collapsed": false,
    "pycharm": {
     "name": "#%%\n"
    }
   }
  },
  {
   "cell_type": "code",
   "execution_count": 5,
   "outputs": [
    {
     "data": {
      "text/plain": "(71664, 6)"
     },
     "execution_count": 5,
     "metadata": {},
     "output_type": "execute_result"
    }
   ],
   "source": [
    "# 2.基本数据处理\n",
    "# 2.1 缩小数据范围,否则速度太慢演示\n",
    "partial_data = data.query('x > 2 & x < 2.5 & y > 2 & y < 2.5')\n",
    "partial_data.shape"
   ],
   "metadata": {
    "collapsed": false,
    "pycharm": {
     "name": "#%%\n"
    }
   }
  },
  {
   "cell_type": "code",
   "execution_count": 6,
   "outputs": [
    {
     "data": {
      "text/plain": "163     669737\n310     234719\n658     502343\n1368    319822\n1627    595084\nName: time, dtype: int64"
     },
     "execution_count": 6,
     "metadata": {},
     "output_type": "execute_result"
    }
   ],
   "source": [
    "partial_data['time'].head()"
   ],
   "metadata": {
    "collapsed": false,
    "pycharm": {
     "name": "#%%\n"
    }
   }
  },
  {
   "cell_type": "code",
   "execution_count": 17,
   "outputs": [
    {
     "data": {
      "text/plain": "DatetimeIndex(['1970-01-08 18:02:17', '1970-01-03 17:11:59',\n               '1970-01-06 19:32:23', '1970-01-04 16:50:22',\n               '1970-01-07 21:18:04', '1970-01-02 03:14:59',\n               '1970-01-07 03:45:16', '1970-01-05 03:28:43',\n               '1970-01-01 18:59:03', '1970-01-09 07:50:12',\n               ...\n               '1970-01-09 20:03:34', '1970-01-08 09:26:50',\n               '1970-01-07 04:45:59', '1970-01-07 22:36:18',\n               '1970-01-06 23:29:43', '1970-01-03 12:31:26',\n               '1970-01-04 15:19:20', '1970-01-01 20:49:14',\n               '1970-01-03 09:17:37', '1970-01-02 20:34:43'],\n              dtype='datetime64[ns]', name='time', length=71664, freq=None)"
     },
     "execution_count": 17,
     "metadata": {},
     "output_type": "execute_result"
    }
   ],
   "source": [
    "#这时候 time 是一个 series,无法调用其内的属性,必须转成DatetimeIndex 属性\n",
    "time = pd.to_datetime(partial_data['time'], unit='s')\n",
    "time = pd.DatetimeIndex(time)\n",
    "time"
   ],
   "metadata": {
    "collapsed": false,
    "pycharm": {
     "name": "#%%\n"
    }
   }
  },
  {
   "cell_type": "code",
   "execution_count": 13,
   "outputs": [
    {
     "ename": "AttributeError",
     "evalue": "'DataFrame' object has no attribute 'hour'",
     "output_type": "error",
     "traceback": [
      "\u001B[0;31m---------------------------------------------------------------------------\u001B[0m",
      "\u001B[0;31mAttributeError\u001B[0m                            Traceback (most recent call last)",
      "\u001B[0;32m<ipython-input-13-15f6575e71bf>\u001B[0m in \u001B[0;36m<module>\u001B[0;34m\u001B[0m\n\u001B[0;32m----> 1\u001B[0;31m \u001B[0mpartial_data\u001B[0m\u001B[0;34m[\u001B[0m\u001B[0;34m'hour'\u001B[0m\u001B[0;34m]\u001B[0m \u001B[0;34m=\u001B[0m \u001B[0mtime\u001B[0m\u001B[0;34m.\u001B[0m\u001B[0mhour\u001B[0m\u001B[0;34m\u001B[0m\u001B[0;34m\u001B[0m\u001B[0m\n\u001B[0m\u001B[1;32m      2\u001B[0m \u001B[0mpartial_data\u001B[0m\u001B[0;34m[\u001B[0m\u001B[0;34m'day'\u001B[0m\u001B[0;34m]\u001B[0m \u001B[0;34m=\u001B[0m \u001B[0mtime\u001B[0m\u001B[0;34m.\u001B[0m\u001B[0mday\u001B[0m\u001B[0;34m\u001B[0m\u001B[0;34m\u001B[0m\u001B[0m\n\u001B[1;32m      3\u001B[0m \u001B[0mpartial_data\u001B[0m\u001B[0;34m[\u001B[0m\u001B[0;34m'weekday'\u001B[0m\u001B[0;34m]\u001B[0m \u001B[0;34m=\u001B[0m \u001B[0mtime\u001B[0m\u001B[0;34m.\u001B[0m\u001B[0mweekday\u001B[0m\u001B[0;34m\u001B[0m\u001B[0;34m\u001B[0m\u001B[0m\n\u001B[1;32m      4\u001B[0m \u001B[0mpartial_data\u001B[0m\u001B[0;34m.\u001B[0m\u001B[0mhead\u001B[0m\u001B[0;34m(\u001B[0m\u001B[0;34m)\u001B[0m\u001B[0;34m\u001B[0m\u001B[0;34m\u001B[0m\u001B[0m\n\u001B[1;32m      5\u001B[0m \u001B[0;34m\u001B[0m\u001B[0m\n",
      "\u001B[0;32m~/anaconda3/envs/itcast/lib/python3.7/site-packages/pandas/core/generic.py\u001B[0m in \u001B[0;36m__getattr__\u001B[0;34m(self, name)\u001B[0m\n\u001B[1;32m   4374\u001B[0m             \u001B[0;32mif\u001B[0m \u001B[0mself\u001B[0m\u001B[0;34m.\u001B[0m\u001B[0m_info_axis\u001B[0m\u001B[0;34m.\u001B[0m\u001B[0m_can_hold_identifiers_and_holds_name\u001B[0m\u001B[0;34m(\u001B[0m\u001B[0mname\u001B[0m\u001B[0;34m)\u001B[0m\u001B[0;34m:\u001B[0m\u001B[0;34m\u001B[0m\u001B[0;34m\u001B[0m\u001B[0m\n\u001B[1;32m   4375\u001B[0m                 \u001B[0;32mreturn\u001B[0m \u001B[0mself\u001B[0m\u001B[0;34m[\u001B[0m\u001B[0mname\u001B[0m\u001B[0;34m]\u001B[0m\u001B[0;34m\u001B[0m\u001B[0;34m\u001B[0m\u001B[0m\n\u001B[0;32m-> 4376\u001B[0;31m             \u001B[0;32mreturn\u001B[0m \u001B[0mobject\u001B[0m\u001B[0;34m.\u001B[0m\u001B[0m__getattribute__\u001B[0m\u001B[0;34m(\u001B[0m\u001B[0mself\u001B[0m\u001B[0;34m,\u001B[0m \u001B[0mname\u001B[0m\u001B[0;34m)\u001B[0m\u001B[0;34m\u001B[0m\u001B[0;34m\u001B[0m\u001B[0m\n\u001B[0m\u001B[1;32m   4377\u001B[0m \u001B[0;34m\u001B[0m\u001B[0m\n\u001B[1;32m   4378\u001B[0m     \u001B[0;32mdef\u001B[0m \u001B[0m__setattr__\u001B[0m\u001B[0;34m(\u001B[0m\u001B[0mself\u001B[0m\u001B[0;34m,\u001B[0m \u001B[0mname\u001B[0m\u001B[0;34m,\u001B[0m \u001B[0mvalue\u001B[0m\u001B[0;34m)\u001B[0m\u001B[0;34m:\u001B[0m\u001B[0;34m\u001B[0m\u001B[0;34m\u001B[0m\u001B[0m\n",
      "\u001B[0;31mAttributeError\u001B[0m: 'DataFrame' object has no attribute 'hour'"
     ]
    }
   ],
   "source": [
    "partial_data['hour'] = time.hour\n",
    "partial_data['day'] = time.day\n",
    "partial_data['weekday'] = time.weekday\n",
    "partial_data.head()\n"
   ],
   "metadata": {
    "collapsed": false,
    "pycharm": {
     "name": "#%%\n"
    }
   }
  },
  {
   "cell_type": "code",
   "execution_count": null,
   "outputs": [],
   "source": [],
   "metadata": {
    "collapsed": false,
    "pycharm": {
     "name": "#%%\n"
    }
   }
  }
 ],
 "metadata": {
  "kernelspec": {
   "display_name": "Python 3",
   "language": "python",
   "name": "python3"
  },
  "language_info": {
   "codemirror_mode": {
    "name": "ipython",
    "version": 2
   },
   "file_extension": ".py",
   "mimetype": "text/x-python",
   "name": "python",
   "nbconvert_exporter": "python",
   "pygments_lexer": "ipython2",
   "version": "2.7.6"
  }
 },
 "nbformat": 4,
 "nbformat_minor": 0
}