{
 "cells": [
  {
   "cell_type": "markdown",
   "metadata": {},
   "source": [
    "# 概率\n",
    "\n",
    "- 联合概率、条件概率与相互独立\n",
    "    - 联合概率：包含多个条件，且所有条件同时成立的概率:记作：P(A,B)\n",
    "    - 条件概率：就是事件A在另外一个事件B已经发生条件下的发生概率,记作：P(A|B)\n",
    "    - 相互独立：如果P(A, B) = P(A)P(B)，则称事件A与事件B相互独立。\n",
    "\n",
    "贝叶斯公式\n",
    "\n",
    "![avatar](../source/137.jpg) \n",
    "![avatar](../source/138.jpg) \n",
    "![avatar](../source/139.jpg) \n",
    "![avatar](../source/140.jpg) "
   ]
  },
  {
   "cell_type": "code",
   "execution_count": null,
   "metadata": {},
   "outputs": [],
   "source": []
  },
  {
   "cell_type": "markdown",
   "metadata": {},
   "source": [
    "# 案例：商品评论情感分析\n",
    "- sklearn.naive_bayes.MultinomialNB(alpha = 1.0)\n",
    "    - 朴素贝叶斯分类\n",
    "    - alpha：拉普拉斯平滑系数\n",
    "![avatar](../source/141.jpg)\n",
    "\n",
    "\n",
    "## 步骤分析\n",
    "- 1）获取数据\n",
    "- 2）数据基本处理\n",
    "    - 2.1） 取出内容列，对数据进行分析\n",
    "    - 2.2） 判定评判标准\n",
    "    - 2.3） 选择停用词\n",
    "    - 2.4） 把内容处理，转化成标准格式\n",
    "    - 2.5） 统计词的个数\n",
    "    - 2.6）准备训练集和测试集\n",
    "- 3）模型训练\n",
    "- 4）模型评估"
   ]
  },
  {
   "cell_type": "code",
   "execution_count": 96,
   "metadata": {},
   "outputs": [],
   "source": [
    "import pandas as pd\n",
    "import numpy as np\n",
    "import jieba\n",
    "import matplotlib.pyplot as plt\n",
    "from sklearn.feature_extraction.text import CountVectorizer\n",
    "from sklearn.naive_bayes import MultinomialNB"
   ]
  },
  {
   "cell_type": "markdown",
   "metadata": {},
   "source": [
    "## 获取数据"
   ]
  },
  {
   "cell_type": "code",
   "execution_count": 122,
   "metadata": {},
   "outputs": [
    {
     "data": {
      "text/html": [
       "<div>\n",
       "<style scoped>\n",
       "    .dataframe tbody tr th:only-of-type {\n",
       "        vertical-align: middle;\n",
       "    }\n",
       "\n",
       "    .dataframe tbody tr th {\n",
       "        vertical-align: top;\n",
       "    }\n",
       "\n",
       "    .dataframe thead th {\n",
       "        text-align: right;\n",
       "    }\n",
       "</style>\n",
       "<table border=\"1\" class=\"dataframe\">\n",
       "  <thead>\n",
       "    <tr style=\"text-align: right;\">\n",
       "      <th></th>\n",
       "      <th>index</th>\n",
       "      <th>content</th>\n",
       "      <th>eval</th>\n",
       "    </tr>\n",
       "  </thead>\n",
       "  <tbody>\n",
       "    <tr>\n",
       "      <th>0</th>\n",
       "      <td>0</td>\n",
       "      <td>从编程小白的角度看，入门极佳。</td>\n",
       "      <td>好评</td>\n",
       "    </tr>\n",
       "    <tr>\n",
       "      <th>1</th>\n",
       "      <td>1</td>\n",
       "      <td>很好的入门书，简洁全面，适合小白。</td>\n",
       "      <td>好评</td>\n",
       "    </tr>\n",
       "    <tr>\n",
       "      <th>2</th>\n",
       "      <td>2</td>\n",
       "      <td>讲解全面，许多小细节都有顾及，三个小项目受益匪浅。</td>\n",
       "      <td>好评</td>\n",
       "    </tr>\n",
       "    <tr>\n",
       "      <th>3</th>\n",
       "      <td>3</td>\n",
       "      <td>前半部分讲概念深入浅出，要言不烦，很赞</td>\n",
       "      <td>好评</td>\n",
       "    </tr>\n",
       "    <tr>\n",
       "      <th>4</th>\n",
       "      <td>4</td>\n",
       "      <td>看了一遍还是不会写，有个概念而已</td>\n",
       "      <td>差评</td>\n",
       "    </tr>\n",
       "  </tbody>\n",
       "</table>\n",
       "</div>"
      ],
      "text/plain": [
       "   index                    content eval\n",
       "0      0            从编程小白的角度看，入门极佳。   好评\n",
       "1      1          很好的入门书，简洁全面，适合小白。   好评\n",
       "2      2  讲解全面，许多小细节都有顾及，三个小项目受益匪浅。   好评\n",
       "3      3        前半部分讲概念深入浅出，要言不烦，很赞   好评\n",
       "4      4           看了一遍还是不会写，有个概念而已   差评"
      ]
     },
     "execution_count": 122,
     "metadata": {},
     "output_type": "execute_result"
    }
   ],
   "source": [
    "# 加载数据\n",
    "data = pd.read_csv(\"../data/书籍评价.csv\", encoding=\"gbk\")\n",
    "data.columns = ['index', 'content', 'eval']\n",
    "data.head()"
   ]
  },
  {
   "cell_type": "code",
   "execution_count": 108,
   "metadata": {},
   "outputs": [
    {
     "data": {
      "text/plain": [
       "0                从编程小白的角度看，入门极佳。\n",
       "1              很好的入门书，简洁全面，适合小白。\n",
       "2      讲解全面，许多小细节都有顾及，三个小项目受益匪浅。\n",
       "3            前半部分讲概念深入浅出，要言不烦，很赞\n",
       "4               看了一遍还是不会写，有个概念而已\n",
       "5           中规中矩的教科书，零基础的看了依旧看不懂\n",
       "6       内容太浅显，个人认为不适合有其它语言编程基础的人\n",
       "7                           破书一本\n",
       "8     适合完完全全的小白读，有其他语言经验的可以去看别的书\n",
       "9                     基础知识写的挺好的！\n",
       "10                           太基础\n",
       "11            略_嗦。。适合完全没有编程经验的小白\n",
       "12                      真的真的不建议买\n",
       "Name: content, dtype: object"
      ]
     },
     "execution_count": 108,
     "metadata": {},
     "output_type": "execute_result"
    }
   ],
   "source": [
    "# 2.1） 取出内容列，对数据进行分析\n",
    "content = data[\"content\"]\n",
    "content\n"
   ]
  },
  {
   "cell_type": "code",
   "execution_count": 109,
   "metadata": {},
   "outputs": [
    {
     "data": {
      "text/html": [
       "<div>\n",
       "<style scoped>\n",
       "    .dataframe tbody tr th:only-of-type {\n",
       "        vertical-align: middle;\n",
       "    }\n",
       "\n",
       "    .dataframe tbody tr th {\n",
       "        vertical-align: top;\n",
       "    }\n",
       "\n",
       "    .dataframe thead th {\n",
       "        text-align: right;\n",
       "    }\n",
       "</style>\n",
       "<table border=\"1\" class=\"dataframe\">\n",
       "  <thead>\n",
       "    <tr style=\"text-align: right;\">\n",
       "      <th></th>\n",
       "      <th>index</th>\n",
       "      <th>content</th>\n",
       "      <th>eval</th>\n",
       "      <th>score</th>\n",
       "    </tr>\n",
       "  </thead>\n",
       "  <tbody>\n",
       "    <tr>\n",
       "      <th>0</th>\n",
       "      <td>0</td>\n",
       "      <td>从编程小白的角度看，入门极佳。</td>\n",
       "      <td>好评</td>\n",
       "      <td>1.0</td>\n",
       "    </tr>\n",
       "    <tr>\n",
       "      <th>1</th>\n",
       "      <td>1</td>\n",
       "      <td>很好的入门书，简洁全面，适合小白。</td>\n",
       "      <td>好评</td>\n",
       "      <td>1.0</td>\n",
       "    </tr>\n",
       "    <tr>\n",
       "      <th>2</th>\n",
       "      <td>2</td>\n",
       "      <td>讲解全面，许多小细节都有顾及，三个小项目受益匪浅。</td>\n",
       "      <td>好评</td>\n",
       "      <td>1.0</td>\n",
       "    </tr>\n",
       "    <tr>\n",
       "      <th>3</th>\n",
       "      <td>3</td>\n",
       "      <td>前半部分讲概念深入浅出，要言不烦，很赞</td>\n",
       "      <td>好评</td>\n",
       "      <td>1.0</td>\n",
       "    </tr>\n",
       "    <tr>\n",
       "      <th>4</th>\n",
       "      <td>4</td>\n",
       "      <td>看了一遍还是不会写，有个概念而已</td>\n",
       "      <td>差评</td>\n",
       "      <td>0.0</td>\n",
       "    </tr>\n",
       "    <tr>\n",
       "      <th>5</th>\n",
       "      <td>5</td>\n",
       "      <td>中规中矩的教科书，零基础的看了依旧看不懂</td>\n",
       "      <td>差评</td>\n",
       "      <td>0.0</td>\n",
       "    </tr>\n",
       "    <tr>\n",
       "      <th>6</th>\n",
       "      <td>6</td>\n",
       "      <td>内容太浅显，个人认为不适合有其它语言编程基础的人</td>\n",
       "      <td>差评</td>\n",
       "      <td>0.0</td>\n",
       "    </tr>\n",
       "    <tr>\n",
       "      <th>7</th>\n",
       "      <td>7</td>\n",
       "      <td>破书一本</td>\n",
       "      <td>差评</td>\n",
       "      <td>0.0</td>\n",
       "    </tr>\n",
       "    <tr>\n",
       "      <th>8</th>\n",
       "      <td>8</td>\n",
       "      <td>适合完完全全的小白读，有其他语言经验的可以去看别的书</td>\n",
       "      <td>差评</td>\n",
       "      <td>0.0</td>\n",
       "    </tr>\n",
       "    <tr>\n",
       "      <th>9</th>\n",
       "      <td>9</td>\n",
       "      <td>基础知识写的挺好的！</td>\n",
       "      <td>好评</td>\n",
       "      <td>1.0</td>\n",
       "    </tr>\n",
       "    <tr>\n",
       "      <th>10</th>\n",
       "      <td>10</td>\n",
       "      <td>太基础</td>\n",
       "      <td>差评</td>\n",
       "      <td>0.0</td>\n",
       "    </tr>\n",
       "    <tr>\n",
       "      <th>11</th>\n",
       "      <td>11</td>\n",
       "      <td>略_嗦。。适合完全没有编程经验的小白</td>\n",
       "      <td>差评</td>\n",
       "      <td>0.0</td>\n",
       "    </tr>\n",
       "    <tr>\n",
       "      <th>12</th>\n",
       "      <td>12</td>\n",
       "      <td>真的真的不建议买</td>\n",
       "      <td>差评</td>\n",
       "      <td>0.0</td>\n",
       "    </tr>\n",
       "  </tbody>\n",
       "</table>\n",
       "</div>"
      ],
      "text/plain": [
       "    index                     content eval  score\n",
       "0       0             从编程小白的角度看，入门极佳。   好评    1.0\n",
       "1       1           很好的入门书，简洁全面，适合小白。   好评    1.0\n",
       "2       2   讲解全面，许多小细节都有顾及，三个小项目受益匪浅。   好评    1.0\n",
       "3       3         前半部分讲概念深入浅出，要言不烦，很赞   好评    1.0\n",
       "4       4            看了一遍还是不会写，有个概念而已   差评    0.0\n",
       "5       5        中规中矩的教科书，零基础的看了依旧看不懂   差评    0.0\n",
       "6       6    内容太浅显，个人认为不适合有其它语言编程基础的人   差评    0.0\n",
       "7       7                        破书一本   差评    0.0\n",
       "8       8  适合完完全全的小白读，有其他语言经验的可以去看别的书   差评    0.0\n",
       "9       9                  基础知识写的挺好的！   好评    1.0\n",
       "10     10                         太基础   差评    0.0\n",
       "11     11          略_嗦。。适合完全没有编程经验的小白   差评    0.0\n",
       "12     12                    真的真的不建议买   差评    0.0"
      ]
     },
     "execution_count": 109,
     "metadata": {},
     "output_type": "execute_result"
    }
   ],
   "source": [
    "data.loc[data.loc[:, 'eval'] == '好评', 'score']=1\n",
    "data.loc[data.loc[:, 'eval'] == '差评', 'score']=0\n",
    "data"
   ]
  },
  {
   "cell_type": "code",
   "execution_count": 110,
   "metadata": {},
   "outputs": [
    {
     "data": {
      "text/plain": [
       "['', '咚', '限制', '从宽', '传说']"
      ]
     },
     "execution_count": 110,
     "metadata": {},
     "output_type": "execute_result"
    }
   ],
   "source": [
    "stopwords=[]\n",
    "with open('../data/stopwords.txt','r',encoding='utf-8') as f:\n",
    "    lines=f.readlines()\n",
    "    for tmp in lines:\n",
    "        line=tmp.strip()\n",
    "        stopwords.append(line)\n",
    "stopwords=list(set(stopwords))#去重  列表形式\n",
    "stopwords[:5]"
   ]
  },
  {
   "cell_type": "code",
   "execution_count": 111,
   "metadata": {},
   "outputs": [
    {
     "data": {
      "text/plain": [
       "[' ,从,编程,小白,的,角度看,，,入门,极佳,。',\n",
       " '很,好,的,入门,书,，,简洁,全面,，,适合,小白,。',\n",
       " '讲解,全面,，,许多,小,细节,都,有,顾及,，,三个,小,项目,受益匪浅,。',\n",
       " '前半部,分讲,概念,深入浅出,，,要言不烦,，,很赞',\n",
       " '看,了,一遍,还是,不会,写,，,有个,概念,而已',\n",
       " '中规中矩,的,教科书,，,零,基础,的,看,了,依旧,看不懂',\n",
       " '内容,太,浅显,，,个人,认为,不,适合,有,其它,语言,编程,基础,的,人',\n",
       " '破书,一本',\n",
       " '适合,完完全全,的,小白读,，,有,其他,语言,经验,的,可以,去,看,别的,书',\n",
       " '基础知识,写,的,挺,好,的,！',\n",
       " '太,基础',\n",
       " '略,_,嗦,。,。,适合,完全,没有,编程,经验,的,小白',\n",
       " '真的,真的,不,建议,买']"
      ]
     },
     "execution_count": 111,
     "metadata": {},
     "output_type": "execute_result"
    }
   ],
   "source": [
    "comment_list = []\n",
    "for tmp in content:\n",
    "    # cut_all 参数默认为 False,所有使用 cut 方法时默认为精确模式\n",
    "    seg_list = jieba.cut(tmp, cut_all=False)\n",
    "    #print(seg_list)  # <generator object Tokenizer.cut at 0x0000000007CF7DB0>\n",
    "    seg_str = ','.join(seg_list)  # 拼接字符串\n",
    "    comment_list.append(seg_str)  # 目的是转化成列表形式\n",
    "comment_list"
   ]
  },
  {
   "cell_type": "code",
   "execution_count": 117,
   "metadata": {},
   "outputs": [
    {
     "name": "stdout",
     "output_type": "stream",
     "text": [
      "[[0 0 0 0 0 1 0 0 0 0 0 0 0 1 0 0 0 0 0 1 0 0 0 0 0 0 0 0 0 1 0 1 0 0 0 0\n",
      "  0]\n",
      " [0 0 0 0 0 1 0 0 0 0 0 0 0 1 0 0 0 0 0 0 0 0 0 0 0 0 1 0 0 0 0 0 0 0 1 0\n",
      "  0]\n",
      " [0 0 1 0 0 0 0 0 0 1 0 0 0 0 0 0 0 0 0 0 0 0 0 0 0 0 0 1 0 0 0 0 1 0 0 1\n",
      "  1]\n",
      " [0 0 0 0 0 0 0 1 1 0 0 0 0 0 0 0 1 0 0 0 1 0 1 0 0 0 0 0 0 0 1 0 0 0 0 0\n",
      "  0]\n",
      " [0 1 0 0 0 0 0 0 0 0 0 0 0 0 0 0 0 0 1 0 1 0 0 0 0 0 0 0 0 0 0 0 0 0 0 0\n",
      "  0]\n",
      " [0 0 0 1 1 0 0 0 0 0 1 0 0 0 0 0 0 1 0 0 0 0 0 1 0 0 0 0 0 0 0 0 0 0 0 0\n",
      "  0]\n",
      " [0 0 0 0 0 0 1 0 0 0 1 0 0 0 0 0 0 0 0 0 0 1 0 0 0 0 0 0 0 1 0 0 0 1 1 0\n",
      "  0]\n",
      " [1 0 0 0 0 0 0 0 0 0 0 0 0 0 0 0 0 0 0 0 0 0 0 0 0 1 0 0 0 0 0 0 0 0 0 0\n",
      "  0]\n",
      " [0 0 0 0 0 0 0 0 0 0 0 0 1 0 1 0 0 0 0 0 0 0 0 0 0 0 0 0 1 0 0 0 0 1 1 0\n",
      "  0]\n",
      " [0 0 0 0 0 0 0 0 0 0 0 1 0 0 0 0 0 0 0 0 0 0 0 0 0 0 0 0 0 0 0 0 0 0 0 0\n",
      "  0]\n",
      " [0 0 0 0 0 0 0 0 0 0 1 0 0 0 0 0 0 0 0 0 0 0 0 0 0 0 0 0 0 0 0 0 0 0 0 0\n",
      "  0]\n",
      " [0 0 0 0 0 0 0 0 0 0 0 0 0 1 0 0 0 0 0 0 0 0 0 0 0 0 0 0 1 1 0 0 0 0 1 0\n",
      "  0]\n",
      " [0 0 0 0 0 0 0 0 0 0 0 0 0 0 0 1 0 0 0 0 0 0 0 0 2 0 0 0 0 0 0 0 0 0 0 0\n",
      "  0]]\n",
      "['一本', '一遍', '三个', '中规中矩', '依旧', '入门', '内容', '分讲', '前半部', '受益匪浅', '基础', '基础知识', '完完全全', '小白', '小白读', '建议', '很赞', '教科书', '有个', '极佳', '概念', '浅显', '深入浅出', '看不懂', '真的', '破书', '简洁', '细节', '经验', '编程', '要言不烦', '角度看', '讲解', '语言', '适合', '项目', '顾及']\n"
     ]
    },
    {
     "data": {
      "text/plain": [
       "<13x37 sparse matrix of type '<class 'numpy.int64'>'\n",
       "\twith 50 stored elements in Compressed Sparse Row format>"
      ]
     },
     "execution_count": 117,
     "metadata": {},
     "output_type": "execute_result"
    }
   ],
   "source": [
    "# 2.5） 统计词的个数\n",
    "# CountVectorizer 类会将文本中的词语转换为词频矩阵\n",
    "con = CountVectorizer(stop_words=stopwords)\n",
    "# 进行词数统计\n",
    "X = con.fit_transform(comment_list)  # 它通过 fit_transform 函数计算各个词语出现的次数\n",
    "name = con.get_feature_names()  # 通过 get_feature_names()可获取词袋中所有文本的关键字\n",
    "print(X.toarray())  # 通过 toarray()可看到词频矩阵的结果\n",
    "print(name)"
   ]
  },
  {
   "cell_type": "code",
   "execution_count": 113,
   "metadata": {},
   "outputs": [
    {
     "data": {
      "text/plain": [
       "array([1., 1., 1., 1., 0., 0., 0., 0., 0., 1., 0., 0., 0.])"
      ]
     },
     "execution_count": 113,
     "metadata": {},
     "output_type": "execute_result"
    }
   ],
   "source": [
    "good_or_bad = data['score'].values  # 获取数据\n",
    "good_or_bad"
   ]
  },
  {
   "cell_type": "code",
   "execution_count": 118,
   "metadata": {},
   "outputs": [],
   "source": [
    "x_train = X.toarray()[:10, :]\n",
    "y_train = good_or_bad[:10]\n",
    "# 准备测试集\n",
    "x_test = X.toarray()[10:, :]\n",
    "y_test = good_or_bad[10:]"
   ]
  },
  {
   "cell_type": "code",
   "execution_count": 119,
   "metadata": {},
   "outputs": [
    {
     "name": "stdout",
     "output_type": "stream",
     "text": [
      "预测值： [0. 0. 0.]\n",
      "真实值： [0. 0. 0.]\n"
     ]
    }
   ],
   "source": [
    "# 构建贝叶斯算法分类器\n",
    "mb = MultinomialNB(alpha=1)  # alpha 为可选项，默认 1.0，添加拉普拉修/Lidstone 平滑参数\n",
    "# 训练数据\n",
    "mb.fit(x_train, y_train)\n",
    "# 预测数据\n",
    "y_predict = mb.predict(x_test)\n",
    "#预测值与真实值展示\n",
    "print('预测值：',y_predict)\n",
    "print('真实值：',y_test)"
   ]
  },
  {
   "cell_type": "code",
   "execution_count": 120,
   "metadata": {},
   "outputs": [
    {
     "data": {
      "text/plain": [
       "1.0"
      ]
     },
     "execution_count": 120,
     "metadata": {},
     "output_type": "execute_result"
    }
   ],
   "source": [
    "mb.score(x_text, y_text)"
   ]
  },
  {
   "cell_type": "markdown",
   "metadata": {},
   "source": [
    "百度情感分析:https://ai.baidu.com/tech/nlp_apply/sentiment_classify"
   ]
  },
  {
   "cell_type": "markdown",
   "metadata": {},
   "source": [
    "## 朴素贝叶斯算法总结\n",
    "\n",
    "- 优点：\n",
    "    - 朴素贝叶斯模型发源于古典数学理论，有稳定的分类效率\n",
    "    - 对缺失数据不太敏感，算法也比较简单，常用于文本分类\n",
    "    - 分类准确度高，速度快\n",
    "    \n",
    "    \n",
    "- 缺点：\n",
    "    - 由于使用了样本属性独立性的假设，所以如果特征属性有关联时其效果不好\n",
    "    - 需要计算先验概率，而先验概率很多时候取决于假设，假设的模型可以有很多种，因此在某些时候会由于假设的先验模型的原因导致预测效果不佳；\n",
    "    \n",
    "    \n",
    "- NB的原理\n",
    "    - 朴素贝叶斯法是基于贝叶斯定理与特征条件独立假设的分类方法。\n",
    "    - 对于给定的待分类项x，通过学习到的模型计算后验概率分布，\n",
    "    - 即：在此项出现的条件下各个目标类别出现的概率，将后验概率最大的类作为xx所属的类别。\n",
    "\n",
    "\n",
    "- 朴素贝叶斯朴素在哪里？\n",
    "    - 在计算条件概率分布P(X=x∣Y=c_k)时，NB引入了一个很强的条件独立假设，即，当Y确定时，X的各个特征分量取值之间相互独立。\n",
    "    \n",
    "    \n",
    "- 为什么引入条件独立性假设？\n",
    "    - 为了避免贝叶斯定理求解时面临的组合爆炸、样本稀疏问题。\n",
    "    \n",
    "    \n",
    "- 在估计条件概率P(X∣Y)时出现概率为0的情况怎么办？\n",
    "    - 这个情况通常见于数据量不足,解决这一问题的方法是采用贝叶斯估计。\n",
    "    - 简单来说，引入λ，\n",
    "        - 当λ=0时，就是普通的极大似然估计；\n",
    "        - 当λ=1时称为拉普拉斯平滑\n",
    "   \n",
    "   \n",
    "- 为什么属性独立性假设在实际情况中很难成立，但朴素贝叶斯仍能取得较好的效果?\n",
    "    - 人们在使用分类器之前，首先做的第一步（也是最重要的一步）往往是特征选择，这个过程的目的就是为了排除特征之间的共线性、选择相对较为独立的特征；\n",
    "    - 对于分类任务来说，只要各类别的条件概率排序正确，无需精准概率值就可以得出正确分类；\n",
    "    - 如果属性间依赖对所有类别影响相同，或依赖关系的影响能相互抵消，则属性条件独立性假设在降低计算复杂度的同时不会对性能产生负面影响\n",
    "    \n",
    "    \n",
    "- 朴素贝叶斯与LR(逻辑回归)的区别？\n",
    "    - 朴素贝叶斯是生成模型, 而LR是判别模型\n",
    "    - 朴素贝叶斯是基于很强的条件独立假设（在已知分类Y的条件下，各个特征变量取值是相互独立的），而LR则对此没有要求；\n",
    "    - 朴素贝叶斯适用于数据集少的情景, 而LR适用于大规模数据集"
   ]
  },
  {
   "cell_type": "code",
   "execution_count": null,
   "metadata": {},
   "outputs": [],
   "source": []
  }
 ],
 "metadata": {
  "kernelspec": {
   "display_name": "Python 3",
   "language": "python",
   "name": "python3"
  },
  "language_info": {
   "codemirror_mode": {
    "name": "ipython",
    "version": 3
   },
   "file_extension": ".py",
   "mimetype": "text/x-python",
   "name": "python",
   "nbconvert_exporter": "python",
   "pygments_lexer": "ipython3",
   "version": "3.7.9"
  }
 },
 "nbformat": 4,
 "nbformat_minor": 4
}
