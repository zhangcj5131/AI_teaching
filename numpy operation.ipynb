{
 "cells": [
  {
   "cell_type": "code",
   "execution_count": 1,
   "metadata": {},
   "outputs": [],
   "source": [
    "import numpy as np"
   ]
  },
  {
   "cell_type": "markdown",
   "metadata": {},
   "source": [
    "属性名字\t属性解释\n",
    "\n",
    "ndarray.shape\t数组维度的元组\n",
    "\n",
    "ndarray.ndim\t数组维数\n",
    "\n",
    "ndarray.size\t数组中的元素数量\n",
    "\n",
    "ndarray.itemsize\t一个数组元素的长度（字节）\n",
    "\n",
    "ndarray.dtype\t数组元素的类型"
   ]
  },
  {
   "cell_type": "markdown",
   "metadata": {},
   "source": [
    "生成0和1的数组\n",
    "\n",
    "np.ones(shape, dtype)\n",
    "\n",
    "np.ones_like(a, dtype)\n",
    "\n",
    "np.zeros(shape, dtype)\n",
    "\n",
    "np.zeros_like(a, dtype)"
   ]
  },
  {
   "cell_type": "code",
   "execution_count": 2,
   "metadata": {},
   "outputs": [
    {
     "data": {
      "text/plain": [
       "array([[0., 0., 0., 0., 0., 0., 0., 0.],\n",
       "       [0., 0., 0., 0., 0., 0., 0., 0.],\n",
       "       [0., 0., 0., 0., 0., 0., 0., 0.],\n",
       "       [0., 0., 0., 0., 0., 0., 0., 0.]])"
      ]
     },
     "execution_count": 2,
     "metadata": {},
     "output_type": "execute_result"
    }
   ],
   "source": [
    "ones = np.ones([4,8])\n",
    "np.zeros_like(ones)"
   ]
  },
  {
   "cell_type": "markdown",
   "metadata": {},
   "source": [
    "# np.linspace (start, stop, num, endpoint)\n",
    "创建等差数组 — 指定数量\n",
    "参数:\n",
    "- start:序列的起始值\n",
    "- stop:序列的终止值\n",
    "- num:要生成的等间隔样例数量，默认为50\n",
    "- endpoint:序列中是否包含stop值，默认为ture"
   ]
  },
  {
   "cell_type": "code",
   "execution_count": 3,
   "metadata": {},
   "outputs": [
    {
     "data": {
      "text/plain": [
       "array([  0.,  10.,  20.,  30.,  40.,  50.,  60.,  70.,  80.,  90., 100.])"
      ]
     },
     "execution_count": 3,
     "metadata": {},
     "output_type": "execute_result"
    }
   ],
   "source": [
    "np.linspace(0, 100, 11)"
   ]
  },
  {
   "cell_type": "markdown",
   "metadata": {},
   "source": [
    "# np.arange(start,stop, step, dtype)\n",
    "- 创建等差数组 — 指定步长\n",
    "- 参数\n",
    "- step:步长,默认值为1"
   ]
  },
  {
   "cell_type": "code",
   "execution_count": 5,
   "metadata": {},
   "outputs": [
    {
     "data": {
      "text/plain": [
       "array([10, 12, 14, 16, 18, 20, 22, 24, 26, 28, 30, 32, 34, 36, 38, 40, 42,\n",
       "       44, 46, 48])"
      ]
     },
     "execution_count": 5,
     "metadata": {},
     "output_type": "execute_result"
    }
   ],
   "source": [
    "np.arange(10, 50, step = 2)"
   ]
  },
  {
   "cell_type": "markdown",
   "metadata": {},
   "source": [
    "# np.logspace(start,stop, num)\n",
    "- 创建等比数列\n",
    "\n",
    "- 参数:\n",
    "\n",
    "- num:要生成的等比数列数量，默认为50"
   ]
  },
  {
   "cell_type": "code",
   "execution_count": 8,
   "metadata": {},
   "outputs": [
    {
     "data": {
      "text/plain": [
       "array([  1.,  10., 100.])"
      ]
     },
     "execution_count": 8,
     "metadata": {},
     "output_type": "execute_result"
    }
   ],
   "source": [
    "# 生成10^x\n",
    "np.logspace(0, 2, 3)"
   ]
  },
  {
   "cell_type": "markdown",
   "metadata": {},
   "source": [
    "# 生成随机数np.random模块\n",
    "\n",
    "- np.random.randn(d0, d1, …, dn)\n",
    "\n",
    "功能：从标准正态分布中返回一个或多个样本值\n",
    "\n",
    "- np.random.normal(loc=0.0, scale=1.0, size=None)\n",
    "\n",
    "loc：float\n",
    "\n",
    "​ 此概率分布的均值（对应着整个分布的中心centre）\n",
    "\n",
    "scale：float\n",
    "\n",
    "​ 此概率分布的标准差（对应于分布的宽度，scale越大越矮胖，scale越小，越瘦高）\n",
    "\n",
    "size：int or tuple of ints\n",
    "\n",
    "​ 输出的shape，默认为None，只输出一个值\n",
    "\n",
    "- np.random.standard_normal(size=None)\n",
    "\n",
    "返回指定形状的标准正态分布的数组。"
   ]
  },
  {
   "cell_type": "code",
   "execution_count": 11,
   "metadata": {},
   "outputs": [],
   "source": [
    "#举例1：生成均值为1.75，标准差为1的正态分布数据，100000000个\n",
    "x1 = np.random.normal(1.75, 1, 100000000)"
   ]
  },
  {
   "cell_type": "code",
   "execution_count": 12,
   "metadata": {},
   "outputs": [
    {
     "data": {
      "text/plain": [
       "array([[ 0.28468594, -0.69792387,  1.46524869, -0.83211551, -2.05944153],\n",
       "       [ 1.1685702 , -0.0967921 ,  0.41345497,  1.49858261, -0.34280272],\n",
       "       [-2.55183303, -0.40988686,  0.2949274 , -0.16468308,  0.74333649],\n",
       "       [ 0.26193938,  0.72992068, -0.01472978,  0.46516869, -0.5290431 ]])"
      ]
     },
     "execution_count": 12,
     "metadata": {},
     "output_type": "execute_result"
    }
   ],
   "source": [
    "#均值为 0,标准差为 1,shape=(4, 5)\n",
    "stock_change = np.random.normal(0, 1, (4, 5))\n",
    "stock_change"
   ]
  },
  {
   "cell_type": "markdown",
   "metadata": {},
   "source": [
    "# 均匀分布\n",
    "- np.random.rand(d0, d1, ..., dn)\n",
    "返回[0.0，1.0)内的一组均匀分布的数。\n",
    "\n",
    "\n",
    "- np.random.uniform(low=0.0, high=1.0, size=None)\n",
    "功能：从一个均匀分布[low,high)中随机采样，注意定义域是左闭右开，即包含low，不包含high.\n",
    "参数介绍:\n",
    "low: 采样下界，float类型，默认值为0；\n",
    "high: 采样上界，float类型，默认值为1；\n",
    "size: 输出样本数目，为int或元组(tuple)类型，例如，size=(m,n,k), 则输出mnk个样本，缺省时输出1个值。\n",
    "返回值：ndarray类型，其形状和参数size中描述一致。\n",
    "\n",
    "\n",
    "- np.random.randint(low, high=None, size=None, dtype='l')\n",
    "从一个均匀分布中随机采样，生成一个整数或N维整数数组，\n",
    "取数范围：若high不为None时，取[low,high)之间随机整数，否则取值[0,low)之间随机整数。"
   ]
  },
  {
   "cell_type": "code",
   "execution_count": 13,
   "metadata": {},
   "outputs": [],
   "source": [
    "# 生成均匀分布的随机数\n",
    "x2 = np.random.uniform(-1, 1, 100000000)"
   ]
  },
  {
   "cell_type": "markdown",
   "metadata": {},
   "source": [
    "# 类型修改\n",
    "ndarray.astype(type)\n",
    "\n",
    "# 数组的去重\n",
    "np.unique()"
   ]
  },
  {
   "cell_type": "code",
   "execution_count": 16,
   "metadata": {},
   "outputs": [
    {
     "data": {
      "text/plain": [
       "array([1, 2, 3, 4, 5, 6])"
      ]
     },
     "execution_count": 16,
     "metadata": {},
     "output_type": "execute_result"
    }
   ],
   "source": [
    "temp = np.array([[1, 2, 3, 4],[3, 4, 5, 6]])\n",
    "np.unique(temp)"
   ]
  },
  {
   "cell_type": "markdown",
   "metadata": {},
   "source": [
    "# np.all\n",
    "所有元素都满足条件返回 true,否则 false"
   ]
  },
  {
   "cell_type": "code",
   "execution_count": 19,
   "metadata": {},
   "outputs": [
    {
     "data": {
      "text/plain": [
       "False"
      ]
     },
     "execution_count": 19,
     "metadata": {},
     "output_type": "execute_result"
    }
   ],
   "source": [
    "#判断前两名同学的成绩[0:2, :]是否全及格\n",
    "score = np.random.randint(40, 100, (10, 5))\n",
    "np.all(score[0:2, :] > 60)"
   ]
  },
  {
   "cell_type": "markdown",
   "metadata": {},
   "source": [
    "# np.any\n",
    "所有元素 有一个满足就返回 true,"
   ]
  },
  {
   "cell_type": "code",
   "execution_count": 20,
   "metadata": {},
   "outputs": [
    {
     "data": {
      "text/plain": [
       "True"
      ]
     },
     "execution_count": 20,
     "metadata": {},
     "output_type": "execute_result"
    }
   ],
   "source": [
    "# 判断前两名同学的成绩[0:2, :]是否有大于90分的\n",
    "np.any(score[0:2, :] > 80)"
   ]
  },
  {
   "cell_type": "markdown",
   "metadata": {},
   "source": [
    "# np.where（三元运算符）"
   ]
  },
  {
   "cell_type": "code",
   "execution_count": 21,
   "metadata": {},
   "outputs": [
    {
     "data": {
      "text/plain": [
       "array([[0, 1, 1, 0],\n",
       "       [0, 1, 1, 1],\n",
       "       [1, 1, 1, 0],\n",
       "       [1, 0, 1, 0]])"
      ]
     },
     "execution_count": 21,
     "metadata": {},
     "output_type": "execute_result"
    }
   ],
   "source": [
    "# 判断前四名学生,前四门课程中，成绩中大于60的置为1，否则为0\n",
    "temp = score[:4, :4]\n",
    "np.where(temp > 60, 1, 0)"
   ]
  },
  {
   "cell_type": "markdown",
   "metadata": {},
   "source": [
    "# np.logical_and和np.logical_or"
   ]
  },
  {
   "cell_type": "code",
   "execution_count": 22,
   "metadata": {},
   "outputs": [
    {
     "data": {
      "text/plain": [
       "array([[1, 0, 0, 1],\n",
       "       [1, 0, 0, 0],\n",
       "       [0, 0, 0, 1],\n",
       "       [0, 1, 0, 1]])"
      ]
     },
     "execution_count": 22,
     "metadata": {},
     "output_type": "execute_result"
    }
   ],
   "source": [
    "# 判断前四名学生,前四门课程中，成绩中大于60且小于90的换为1，否则为0\n",
    "np.where(np.logical_and(temp > 60, temp < 90), 1, 0)\n",
    "\n",
    "# 判断前四名学生,前四门课程中，成绩中大于90或小于60的换为1，否则为0\n",
    "np.where(np.logical_or(temp > 90, temp < 60), 1, 0)"
   ]
  },
  {
   "cell_type": "code",
   "execution_count": null,
   "metadata": {},
   "outputs": [],
   "source": []
  }
 ],
 "metadata": {
  "kernelspec": {
   "display_name": "Python 3",
   "language": "python",
   "name": "python3"
  },
  "language_info": {
   "codemirror_mode": {
    "name": "ipython",
    "version": 3
   },
   "file_extension": ".py",
   "mimetype": "text/x-python",
   "name": "python",
   "nbconvert_exporter": "python",
   "pygments_lexer": "ipython3",
   "version": "3.6.5"
  }
 },
 "nbformat": 4,
 "nbformat_minor": 2
}
